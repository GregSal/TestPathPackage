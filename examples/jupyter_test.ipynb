{
 "cells": [
  {
   "cell_type": "markdown",
   "metadata": {},
   "source": [
    "# Test path and other package environment settings"
   ]
  },
  {
   "cell_type": "markdown",
   "metadata": {},
   "source": [
    "## Initial Imports"
   ]
  },
  {
   "cell_type": "code",
   "execution_count": 1,
   "metadata": {},
   "outputs": [],
   "source": [
    "from pathlib import Path"
   ]
  },
  {
   "cell_type": "markdown",
   "metadata": {},
   "source": [
    "## Python Path Info"
   ]
  },
  {
   "cell_type": "code",
   "execution_count": 2,
   "metadata": {},
   "outputs": [
    {
     "name": "stdout",
     "output_type": "stream",
     "text": [
      "In module: __main__\n",
      "current path is: c:\\Users\\smoke\\Documents\\Python Scripts\\TestPathPackage\n",
      "\n",
      "PythonPaths:\n",
      "\tc:\\Users\\smoke\\Documents\\Python Scripts\\TestPathPackage\n",
      "\tC:\\Users\\smoke\\Documents\\Python Scripts\\TestPathPackage\\src\n",
      "\tC:\\Users\\smoke\\Documents\\Python Scripts\\TestPathPackage\\examples\n",
      "\tC:\\Users\\smoke\\Documents\\Python Scripts\\TestPathPackage\\tests\n",
      "\tC:\\Users\\smoke\\Documents\\Python Scripts\\TestPathPackage\n",
      "\tC:\\Users\\smoke\\.conda\\envs\\TestPathDev\\python39.zip\n",
      "\tC:\\Users\\smoke\\.conda\\envs\\TestPathDev\\DLLs\n",
      "\tC:\\Users\\smoke\\.conda\\envs\\TestPathDev\\lib\n",
      "\tC:\\Users\\smoke\\.conda\\envs\\TestPathDev\n",
      "\t\n",
      "\tC:\\Users\\smoke\\.conda\\envs\\TestPathDev\\lib\\site-packages\n",
      "\tC:\\Users\\smoke\\.conda\\envs\\TestPathDev\\lib\\site-packages\\win32\n",
      "\tC:\\Users\\smoke\\.conda\\envs\\TestPathDev\\lib\\site-packages\\win32\\lib\n",
      "\tC:\\Users\\smoke\\.conda\\envs\\TestPathDev\\lib\\site-packages\\Pythonwin\n",
      "\tC:\\Users\\smoke\\.conda\\envs\\TestPathDev\\lib\\site-packages\\IPython\\extensions\n",
      "\tC:\\Users\\smoke\\.ipython\n",
      "\tC:\\Users\\smoke\\AppData\\Roaming\\Python\\Python39\\site-packages\n"
     ]
    }
   ],
   "source": [
    "import sys\n",
    "\n",
    "print(f'In module: {__name__}')\n",
    "print(f'current path is: {Path.cwd()}\\n')\n",
    "\n",
    "print('PythonPaths:')\n",
    "for path_str in sys.path:\n",
    "    print(f'\\t{path_str}')\n"
   ]
  },
  {
   "cell_type": "markdown",
   "metadata": {},
   "source": [
    "## Test import of function from module in src "
   ]
  },
  {
   "cell_type": "code",
   "execution_count": 3,
   "metadata": {},
   "outputs": [
    {
     "name": "stdout",
     "output_type": "stream",
     "text": [
      "\n",
      "In module: simple_script\n",
      "\n",
      "current path is: c:\\Users\\smoke\\Documents\\Python Scripts\\TestPathPackage\n",
      "\n",
      "PythonPaths:\n",
      "\tc:\\Users\\smoke\\Documents\\Python Scripts\\TestPathPackage\n",
      "\tC:\\Users\\smoke\\Documents\\Python Scripts\\TestPathPackage\\src\n",
      "\tC:\\Users\\smoke\\Documents\\Python Scripts\\TestPathPackage\\examples\n",
      "\tC:\\Users\\smoke\\Documents\\Python Scripts\\TestPathPackage\\tests\n",
      "\tC:\\Users\\smoke\\Documents\\Python Scripts\\TestPathPackage\n",
      "\tC:\\Users\\smoke\\.conda\\envs\\TestPathDev\\python39.zip\n",
      "\tC:\\Users\\smoke\\.conda\\envs\\TestPathDev\\DLLs\n",
      "\tC:\\Users\\smoke\\.conda\\envs\\TestPathDev\\lib\n",
      "\tC:\\Users\\smoke\\.conda\\envs\\TestPathDev\n",
      "\t\n",
      "\tC:\\Users\\smoke\\.conda\\envs\\TestPathDev\\lib\\site-packages\n",
      "\tC:\\Users\\smoke\\.conda\\envs\\TestPathDev\\lib\\site-packages\\win32\n",
      "\tC:\\Users\\smoke\\.conda\\envs\\TestPathDev\\lib\\site-packages\\win32\\lib\n",
      "\tC:\\Users\\smoke\\.conda\\envs\\TestPathDev\\lib\\site-packages\\Pythonwin\n",
      "\tC:\\Users\\smoke\\.conda\\envs\\TestPathDev\\lib\\site-packages\\IPython\\extensions\n",
      "\tC:\\Users\\smoke\\.ipython\n",
      "\tC:\\Users\\smoke\\AppData\\Roaming\\Python\\Python39\\site-packages\n",
      "\n",
      "Done module: simple_script\n",
      "\n",
      "\n",
      "Tomorrow is: Sunday, 13. March 2022 09:00AM\n"
     ]
    }
   ],
   "source": [
    "# %% Import function from module in src\n",
    "from simple_script import what_is_tomorrow\n",
    "\n",
    "tomorrow = what_is_tomorrow()\n",
    "tomorrow_str = tomorrow.strftime(\"%A, %d. %B %Y %I:%M%p\")\n",
    "print(f'Tomorrow is: {tomorrow_str}')"
   ]
  },
  {
   "cell_type": "markdown",
   "metadata": {},
   "source": [
    "## Test numpy Import\n",
    "numpy has often cause problems where other packages import OK."
   ]
  },
  {
   "cell_type": "code",
   "execution_count": 4,
   "metadata": {},
   "outputs": [
    {
     "name": "stdout",
     "output_type": "stream",
     "text": [
      "[1 2 3 4]\n"
     ]
    }
   ],
   "source": [
    "# %% Import numpy module\n",
    "import numpy as np\n",
    "num_list = np.arange(1,5)\n",
    "print(num_list)"
   ]
  },
  {
   "cell_type": "markdown",
   "metadata": {},
   "source": [
    "## Test import of sub-module"
   ]
  },
  {
   "cell_type": "code",
   "execution_count": 5,
   "metadata": {},
   "outputs": [
    {
     "name": "stdout",
     "output_type": "stream",
     "text": [
      "\n",
      "In module: addition.extra_script\n",
      "\n",
      "current path is: c:\\Users\\smoke\\Documents\\Python Scripts\\TestPathPackage\n",
      "\n",
      "PythonPaths:\n",
      "\tc:\\Users\\smoke\\Documents\\Python Scripts\\TestPathPackage\n",
      "\tC:\\Users\\smoke\\Documents\\Python Scripts\\TestPathPackage\\src\n",
      "\tC:\\Users\\smoke\\Documents\\Python Scripts\\TestPathPackage\\examples\n",
      "\tC:\\Users\\smoke\\Documents\\Python Scripts\\TestPathPackage\\tests\n",
      "\tC:\\Users\\smoke\\Documents\\Python Scripts\\TestPathPackage\n",
      "\tC:\\Users\\smoke\\.conda\\envs\\TestPathDev\\python39.zip\n",
      "\tC:\\Users\\smoke\\.conda\\envs\\TestPathDev\\DLLs\n",
      "\tC:\\Users\\smoke\\.conda\\envs\\TestPathDev\\lib\n",
      "\tC:\\Users\\smoke\\.conda\\envs\\TestPathDev\n",
      "\t\n",
      "\tC:\\Users\\smoke\\.conda\\envs\\TestPathDev\\lib\\site-packages\n",
      "\tC:\\Users\\smoke\\.conda\\envs\\TestPathDev\\lib\\site-packages\\win32\n",
      "\tC:\\Users\\smoke\\.conda\\envs\\TestPathDev\\lib\\site-packages\\win32\\lib\n",
      "\tC:\\Users\\smoke\\.conda\\envs\\TestPathDev\\lib\\site-packages\\Pythonwin\n",
      "\tC:\\Users\\smoke\\.conda\\envs\\TestPathDev\\lib\\site-packages\\IPython\\extensions\n",
      "\tC:\\Users\\smoke\\.ipython\n",
      "\tC:\\Users\\smoke\\AppData\\Roaming\\Python\\Python39\\site-packages\n",
      "\n",
      "Done module: addition.extra_script\n",
      "\n",
      "\n",
      "[1 2 3 4 5]\n"
     ]
    }
   ],
   "source": [
    "# %% Import sub-module\n",
    "from addition.extra_script import build_array\n",
    "num_ary = build_array(5)\n",
    "print(num_ary)"
   ]
  },
  {
   "cell_type": "markdown",
   "metadata": {},
   "source": [
    "## Done"
   ]
  },
  {
   "cell_type": "code",
   "execution_count": 6,
   "metadata": {},
   "outputs": [
    {
     "name": "stdout",
     "output_type": "stream",
     "text": [
      "\n",
      "Done module: __main__\n",
      "\n",
      "\n"
     ]
    }
   ],
   "source": [
    "# %% Exiting module\n",
    "print(f'\\nDone module: {__name__}\\n\\n')"
   ]
  }
 ],
 "metadata": {
  "interpreter": {
   "hash": "3deb587e059dce917fc5b0fc097f2f58e8802653b96bf8951102272c3900e902"
  },
  "kernelspec": {
   "display_name": "Python 3.9.7 ('TestPathDev')",
   "language": "python",
   "name": "python3"
  },
  "language_info": {
   "codemirror_mode": {
    "name": "ipython",
    "version": 3
   },
   "file_extension": ".py",
   "mimetype": "text/x-python",
   "name": "python",
   "nbconvert_exporter": "python",
   "pygments_lexer": "ipython3",
   "version": "3.9.7"
  },
  "orig_nbformat": 4
 },
 "nbformat": 4,
 "nbformat_minor": 2
}
